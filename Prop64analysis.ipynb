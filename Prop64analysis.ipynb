{
 "cells": [
  {
   "cell_type": "code",
   "execution_count": 1,
   "metadata": {
    "collapsed": true
   },
   "outputs": [],
   "source": [
    "import pandas as pd"
   ]
  },
  {
   "cell_type": "code",
   "execution_count": 2,
   "metadata": {
    "collapsed": true
   },
   "outputs": [],
   "source": [
    "props = pd.read_csv(\"http://www.firstpythonnotebook.org/_static/committees.csv\")"
   ]
  },
  {
   "cell_type": "raw",
   "metadata": {},
   "source": [
    "props"
   ]
  },
  {
   "cell_type": "code",
   "execution_count": 3,
   "metadata": {},
   "outputs": [
    {
     "data": {
      "text/plain": [
       "PROPOSITION 057 - CRIMINAL SENTENCES. JUVENILE CRIMINAL PROCEEDINGS AND SENTENCING. INITIATIVE CONSTITUTIONAL AMENDMENT AND STATUTE.                           13\n",
       "PROPOSITION 056 - CIGARETTE TAX TO FUND HEALTHCARE, TOBACCO USE PREVENTION, RESEARCH, AND LAW ENFORCEMENT. INITIATIVE CONSTITUTIONAL AMENDMENT AND STATUTE.    12\n",
       "PROPOSITION 064- MARIJUANA LEGALIZATION. INITIATIVE STATUTE.                                                                                                   11\n",
       "PROPOSITION 066- DEATH PENALTY. PROCEDURES. INITIATIVE STATUTE.                                                                                                 9\n",
       "PROPOSITION 055 - TAX EXTENSION TO FUND EDUCATION AND HEALTHCARE. INITIATIVE CONSTITUTIONAL AMENDMENT.                                                          8\n",
       "PROPOSITION 067- REFERENDUM TO OVERTURN BAN ON SINGLE-USE PLASTIC BAGS.                                                                                         7\n",
       "PROPOSITION 062- DEATH PENALTY. INITIATIVE STATUTE.                                                                                                             7\n",
       "PROPOSITION 059- SB 254 (CHAPTER 20, STATUTES OF 2016), ALLEN. CAMPAIGN FINANCE: VOTER INSTRUCTION                                                              6\n",
       "PROPOSITION 053 - REVENUE BONDS. STATEWIDE VOTER APPROVAL. INITIATIVE CONSTITUTIONAL AMENDMENT.                                                                 4\n",
       "PROPOSITION 054 - LEGISLATURE. LEGISLATION AND PROCEEDINGS. INITIATIVE CONSTITUTIONAL AMENDMENT AND STATUTE.                                                    4\n",
       "PROPOSITION 058 - SB 1174 (CHAPTER 753, STATUTES OF 2014), LARA. ENGLISH LANGUAGE EDUCATION                                                                     4\n",
       "PROPOSITION 063- FIREARMS. AMMUNITION SALES. INTIATIVE STATUTE.                                                                                                 4\n",
       "PROPOSITION 051 - SCHOOL BONDS. FUNDING FOR K-12 SCHOOL AND COMMUNITY COLLEGE FACILITIES. INITIATIVE STATUTORY AMENDMENT.                                       4\n",
       "PROPOSITION 052 - STATE FEES ON HOSPITALS. FEDERAL MEDI-CAL MATCHING FUNDS. INITIATIVE STATUTORY AND CONSTITUTIONAL AMENDMENT.                                  3\n",
       "PROPOSITION 061- STATE PRESCRIPTION DRUG PURCHASES. PRICING STANDARDS. INITIATIVE STATUTE.                                                                      3\n",
       "PROPOSITION 060- ADULT FILMS. CONDOMS. HEALTH REQUIREMENTS. INITIATIVE STATUTE.                                                                                 2\n",
       "PROPOSITION 065- CARRY-OUT BAGS. CHARGES. INITIATIVE STATUTE.                                                                                                   1\n",
       "Name: prop_name, dtype: int64"
      ]
     },
     "execution_count": 3,
     "metadata": {},
     "output_type": "execute_result"
    }
   ],
   "source": [
    "props.prop_name.value_counts()"
   ]
  },
  {
   "cell_type": "code",
   "execution_count": 4,
   "metadata": {},
   "outputs": [
    {
     "data": {
      "text/html": [
       "<div>\n",
       "<style>\n",
       "    .dataframe thead tr:only-child th {\n",
       "        text-align: right;\n",
       "    }\n",
       "\n",
       "    .dataframe thead th {\n",
       "        text-align: left;\n",
       "    }\n",
       "\n",
       "    .dataframe tbody tr th {\n",
       "        vertical-align: top;\n",
       "    }\n",
       "</style>\n",
       "<table border=\"1\" class=\"dataframe\">\n",
       "  <thead>\n",
       "    <tr style=\"text-align: right;\">\n",
       "      <th></th>\n",
       "      <th>index</th>\n",
       "      <th>prop_name</th>\n",
       "    </tr>\n",
       "  </thead>\n",
       "  <tbody>\n",
       "    <tr>\n",
       "      <th>0</th>\n",
       "      <td>PROPOSITION 057 - CRIMINAL SENTENCES. JUVENILE...</td>\n",
       "      <td>13</td>\n",
       "    </tr>\n",
       "    <tr>\n",
       "      <th>1</th>\n",
       "      <td>PROPOSITION 056 - CIGARETTE TAX TO FUND HEALTH...</td>\n",
       "      <td>12</td>\n",
       "    </tr>\n",
       "    <tr>\n",
       "      <th>2</th>\n",
       "      <td>PROPOSITION 064- MARIJUANA LEGALIZATION. INITI...</td>\n",
       "      <td>11</td>\n",
       "    </tr>\n",
       "    <tr>\n",
       "      <th>3</th>\n",
       "      <td>PROPOSITION 066- DEATH PENALTY. PROCEDURES. IN...</td>\n",
       "      <td>9</td>\n",
       "    </tr>\n",
       "    <tr>\n",
       "      <th>4</th>\n",
       "      <td>PROPOSITION 055 - TAX EXTENSION TO FUND EDUCAT...</td>\n",
       "      <td>8</td>\n",
       "    </tr>\n",
       "    <tr>\n",
       "      <th>5</th>\n",
       "      <td>PROPOSITION 067- REFERENDUM TO OVERTURN BAN ON...</td>\n",
       "      <td>7</td>\n",
       "    </tr>\n",
       "    <tr>\n",
       "      <th>6</th>\n",
       "      <td>PROPOSITION 062- DEATH PENALTY. INITIATIVE STA...</td>\n",
       "      <td>7</td>\n",
       "    </tr>\n",
       "    <tr>\n",
       "      <th>7</th>\n",
       "      <td>PROPOSITION 059- SB 254 (CHAPTER 20, STATUTES ...</td>\n",
       "      <td>6</td>\n",
       "    </tr>\n",
       "    <tr>\n",
       "      <th>8</th>\n",
       "      <td>PROPOSITION 053 - REVENUE BONDS. STATEWIDE VOT...</td>\n",
       "      <td>4</td>\n",
       "    </tr>\n",
       "    <tr>\n",
       "      <th>9</th>\n",
       "      <td>PROPOSITION 054 - LEGISLATURE. LEGISLATION AND...</td>\n",
       "      <td>4</td>\n",
       "    </tr>\n",
       "    <tr>\n",
       "      <th>10</th>\n",
       "      <td>PROPOSITION 058 - SB 1174 (CHAPTER 753, STATUT...</td>\n",
       "      <td>4</td>\n",
       "    </tr>\n",
       "    <tr>\n",
       "      <th>11</th>\n",
       "      <td>PROPOSITION 063- FIREARMS. AMMUNITION SALES. I...</td>\n",
       "      <td>4</td>\n",
       "    </tr>\n",
       "    <tr>\n",
       "      <th>12</th>\n",
       "      <td>PROPOSITION 051 - SCHOOL BONDS. FUNDING FOR K-...</td>\n",
       "      <td>4</td>\n",
       "    </tr>\n",
       "    <tr>\n",
       "      <th>13</th>\n",
       "      <td>PROPOSITION 052 - STATE FEES ON HOSPITALS. FED...</td>\n",
       "      <td>3</td>\n",
       "    </tr>\n",
       "    <tr>\n",
       "      <th>14</th>\n",
       "      <td>PROPOSITION 061- STATE PRESCRIPTION DRUG PURCH...</td>\n",
       "      <td>3</td>\n",
       "    </tr>\n",
       "    <tr>\n",
       "      <th>15</th>\n",
       "      <td>PROPOSITION 060- ADULT FILMS. CONDOMS. HEALTH ...</td>\n",
       "      <td>2</td>\n",
       "    </tr>\n",
       "    <tr>\n",
       "      <th>16</th>\n",
       "      <td>PROPOSITION 065- CARRY-OUT BAGS. CHARGES. INIT...</td>\n",
       "      <td>1</td>\n",
       "    </tr>\n",
       "  </tbody>\n",
       "</table>\n",
       "</div>"
      ],
      "text/plain": [
       "                                                index  prop_name\n",
       "0   PROPOSITION 057 - CRIMINAL SENTENCES. JUVENILE...         13\n",
       "1   PROPOSITION 056 - CIGARETTE TAX TO FUND HEALTH...         12\n",
       "2   PROPOSITION 064- MARIJUANA LEGALIZATION. INITI...         11\n",
       "3   PROPOSITION 066- DEATH PENALTY. PROCEDURES. IN...          9\n",
       "4   PROPOSITION 055 - TAX EXTENSION TO FUND EDUCAT...          8\n",
       "5   PROPOSITION 067- REFERENDUM TO OVERTURN BAN ON...          7\n",
       "6   PROPOSITION 062- DEATH PENALTY. INITIATIVE STA...          7\n",
       "7   PROPOSITION 059- SB 254 (CHAPTER 20, STATUTES ...          6\n",
       "8   PROPOSITION 053 - REVENUE BONDS. STATEWIDE VOT...          4\n",
       "9   PROPOSITION 054 - LEGISLATURE. LEGISLATION AND...          4\n",
       "10  PROPOSITION 058 - SB 1174 (CHAPTER 753, STATUT...          4\n",
       "11  PROPOSITION 063- FIREARMS. AMMUNITION SALES. I...          4\n",
       "12  PROPOSITION 051 - SCHOOL BONDS. FUNDING FOR K-...          4\n",
       "13  PROPOSITION 052 - STATE FEES ON HOSPITALS. FED...          3\n",
       "14  PROPOSITION 061- STATE PRESCRIPTION DRUG PURCH...          3\n",
       "15  PROPOSITION 060- ADULT FILMS. CONDOMS. HEALTH ...          2\n",
       "16  PROPOSITION 065- CARRY-OUT BAGS. CHARGES. INIT...          1"
      ]
     },
     "execution_count": 4,
     "metadata": {},
     "output_type": "execute_result"
    }
   ],
   "source": [
    "props.prop_name.value_counts().reset_index()"
   ]
  },
  {
   "cell_type": "code",
   "execution_count": 5,
   "metadata": {},
   "outputs": [
    {
     "data": {
      "text/html": [
       "<div>\n",
       "<style>\n",
       "    .dataframe thead tr:only-child th {\n",
       "        text-align: right;\n",
       "    }\n",
       "\n",
       "    .dataframe thead th {\n",
       "        text-align: left;\n",
       "    }\n",
       "\n",
       "    .dataframe tbody tr th {\n",
       "        vertical-align: top;\n",
       "    }\n",
       "</style>\n",
       "<table border=\"1\" class=\"dataframe\">\n",
       "  <thead>\n",
       "    <tr style=\"text-align: right;\">\n",
       "      <th></th>\n",
       "      <th>ocd_prop_id</th>\n",
       "      <th>calaccess_prop_id</th>\n",
       "      <th>ccdc_prop_id</th>\n",
       "      <th>prop_name</th>\n",
       "      <th>ccdc_committee_id</th>\n",
       "      <th>calaccess_committee_id</th>\n",
       "      <th>committee_name</th>\n",
       "      <th>committee_position</th>\n",
       "    </tr>\n",
       "  </thead>\n",
       "  <tbody>\n",
       "    <tr>\n",
       "      <th>74</th>\n",
       "      <td>ocd-contest/232cb72c-1b11-4293-b4e2-a181e80d172e</td>\n",
       "      <td>1381868</td>\n",
       "      <td>83</td>\n",
       "      <td>PROPOSITION 064- MARIJUANA LEGALIZATION. INITI...</td>\n",
       "      <td>456</td>\n",
       "      <td>1381808</td>\n",
       "      <td>YES ON 64, CALIFORNIANS TO CONTROL, REGULATE A...</td>\n",
       "      <td>SUPPORT</td>\n",
       "    </tr>\n",
       "    <tr>\n",
       "      <th>75</th>\n",
       "      <td>ocd-contest/232cb72c-1b11-4293-b4e2-a181e80d172e</td>\n",
       "      <td>1381868</td>\n",
       "      <td>83</td>\n",
       "      <td>PROPOSITION 064- MARIJUANA LEGALIZATION. INITI...</td>\n",
       "      <td>457</td>\n",
       "      <td>1382525</td>\n",
       "      <td>NEW APPROACH PAC (MPO)</td>\n",
       "      <td>SUPPORT</td>\n",
       "    </tr>\n",
       "    <tr>\n",
       "      <th>76</th>\n",
       "      <td>ocd-contest/232cb72c-1b11-4293-b4e2-a181e80d172e</td>\n",
       "      <td>1381868</td>\n",
       "      <td>83</td>\n",
       "      <td>PROPOSITION 064- MARIJUANA LEGALIZATION. INITI...</td>\n",
       "      <td>458</td>\n",
       "      <td>1376077</td>\n",
       "      <td>CALIFORNIANS FOR SENSIBLE REFORM, SPONSORED BY...</td>\n",
       "      <td>SUPPORT</td>\n",
       "    </tr>\n",
       "    <tr>\n",
       "      <th>77</th>\n",
       "      <td>ocd-contest/232cb72c-1b11-4293-b4e2-a181e80d172e</td>\n",
       "      <td>1381868</td>\n",
       "      <td>83</td>\n",
       "      <td>PROPOSITION 064- MARIJUANA LEGALIZATION. INITI...</td>\n",
       "      <td>459</td>\n",
       "      <td>1382568</td>\n",
       "      <td>PUBLIC AND MENTAL HEALTH ADVOCATES AGAINST 64,...</td>\n",
       "      <td>OPPOSE</td>\n",
       "    </tr>\n",
       "    <tr>\n",
       "      <th>78</th>\n",
       "      <td>ocd-contest/232cb72c-1b11-4293-b4e2-a181e80d172e</td>\n",
       "      <td>1381868</td>\n",
       "      <td>83</td>\n",
       "      <td>PROPOSITION 064- MARIJUANA LEGALIZATION. INITI...</td>\n",
       "      <td>460</td>\n",
       "      <td>1371855</td>\n",
       "      <td>MARIJUANA POLICY PROJECT OF CALIFORNIA, YES ON 64</td>\n",
       "      <td>SUPPORT</td>\n",
       "    </tr>\n",
       "    <tr>\n",
       "      <th>79</th>\n",
       "      <td>ocd-contest/232cb72c-1b11-4293-b4e2-a181e80d172e</td>\n",
       "      <td>1381868</td>\n",
       "      <td>83</td>\n",
       "      <td>PROPOSITION 064- MARIJUANA LEGALIZATION. INITI...</td>\n",
       "      <td>461</td>\n",
       "      <td>1343793</td>\n",
       "      <td>CALIFORNIANS FOR RESPONSIBLE MARIJUANA REFORM,...</td>\n",
       "      <td>SUPPORT</td>\n",
       "    </tr>\n",
       "    <tr>\n",
       "      <th>80</th>\n",
       "      <td>ocd-contest/232cb72c-1b11-4293-b4e2-a181e80d172e</td>\n",
       "      <td>1381868</td>\n",
       "      <td>83</td>\n",
       "      <td>PROPOSITION 064- MARIJUANA LEGALIZATION. INITI...</td>\n",
       "      <td>462</td>\n",
       "      <td>1386560</td>\n",
       "      <td>ADULT USE CAMPAIGN FOR PROPOSITION 64; THE</td>\n",
       "      <td>SUPPORT</td>\n",
       "    </tr>\n",
       "    <tr>\n",
       "      <th>81</th>\n",
       "      <td>ocd-contest/232cb72c-1b11-4293-b4e2-a181e80d172e</td>\n",
       "      <td>1381868</td>\n",
       "      <td>83</td>\n",
       "      <td>PROPOSITION 064- MARIJUANA LEGALIZATION. INITI...</td>\n",
       "      <td>463</td>\n",
       "      <td>1387789</td>\n",
       "      <td>SAM ACTION, INC., A COMMITTEE AGAINST PROPOSIT...</td>\n",
       "      <td>OPPOSE</td>\n",
       "    </tr>\n",
       "    <tr>\n",
       "      <th>82</th>\n",
       "      <td>ocd-contest/232cb72c-1b11-4293-b4e2-a181e80d172e</td>\n",
       "      <td>1381868</td>\n",
       "      <td>83</td>\n",
       "      <td>PROPOSITION 064- MARIJUANA LEGALIZATION. INITI...</td>\n",
       "      <td>464</td>\n",
       "      <td>1385506</td>\n",
       "      <td>DRUG POLICY ACTION - NON PROFIT 501C4, YES ON ...</td>\n",
       "      <td>SUPPORT</td>\n",
       "    </tr>\n",
       "    <tr>\n",
       "      <th>83</th>\n",
       "      <td>ocd-contest/232cb72c-1b11-4293-b4e2-a181e80d172e</td>\n",
       "      <td>1381868</td>\n",
       "      <td>83</td>\n",
       "      <td>PROPOSITION 064- MARIJUANA LEGALIZATION. INITI...</td>\n",
       "      <td>465</td>\n",
       "      <td>1385745</td>\n",
       "      <td>FUND FOR POLICY REFORM (NONPROFIT 501(C)(4))</td>\n",
       "      <td>SUPPORT</td>\n",
       "    </tr>\n",
       "    <tr>\n",
       "      <th>84</th>\n",
       "      <td>ocd-contest/232cb72c-1b11-4293-b4e2-a181e80d172e</td>\n",
       "      <td>1381868</td>\n",
       "      <td>83</td>\n",
       "      <td>PROPOSITION 064- MARIJUANA LEGALIZATION. INITI...</td>\n",
       "      <td>466</td>\n",
       "      <td>1390962</td>\n",
       "      <td>MOMS STRONG AGAINST PROP 64</td>\n",
       "      <td>OPPOSE</td>\n",
       "    </tr>\n",
       "  </tbody>\n",
       "</table>\n",
       "</div>"
      ],
      "text/plain": [
       "                                         ocd_prop_id  calaccess_prop_id  \\\n",
       "74  ocd-contest/232cb72c-1b11-4293-b4e2-a181e80d172e            1381868   \n",
       "75  ocd-contest/232cb72c-1b11-4293-b4e2-a181e80d172e            1381868   \n",
       "76  ocd-contest/232cb72c-1b11-4293-b4e2-a181e80d172e            1381868   \n",
       "77  ocd-contest/232cb72c-1b11-4293-b4e2-a181e80d172e            1381868   \n",
       "78  ocd-contest/232cb72c-1b11-4293-b4e2-a181e80d172e            1381868   \n",
       "79  ocd-contest/232cb72c-1b11-4293-b4e2-a181e80d172e            1381868   \n",
       "80  ocd-contest/232cb72c-1b11-4293-b4e2-a181e80d172e            1381868   \n",
       "81  ocd-contest/232cb72c-1b11-4293-b4e2-a181e80d172e            1381868   \n",
       "82  ocd-contest/232cb72c-1b11-4293-b4e2-a181e80d172e            1381868   \n",
       "83  ocd-contest/232cb72c-1b11-4293-b4e2-a181e80d172e            1381868   \n",
       "84  ocd-contest/232cb72c-1b11-4293-b4e2-a181e80d172e            1381868   \n",
       "\n",
       "    ccdc_prop_id                                          prop_name  \\\n",
       "74            83  PROPOSITION 064- MARIJUANA LEGALIZATION. INITI...   \n",
       "75            83  PROPOSITION 064- MARIJUANA LEGALIZATION. INITI...   \n",
       "76            83  PROPOSITION 064- MARIJUANA LEGALIZATION. INITI...   \n",
       "77            83  PROPOSITION 064- MARIJUANA LEGALIZATION. INITI...   \n",
       "78            83  PROPOSITION 064- MARIJUANA LEGALIZATION. INITI...   \n",
       "79            83  PROPOSITION 064- MARIJUANA LEGALIZATION. INITI...   \n",
       "80            83  PROPOSITION 064- MARIJUANA LEGALIZATION. INITI...   \n",
       "81            83  PROPOSITION 064- MARIJUANA LEGALIZATION. INITI...   \n",
       "82            83  PROPOSITION 064- MARIJUANA LEGALIZATION. INITI...   \n",
       "83            83  PROPOSITION 064- MARIJUANA LEGALIZATION. INITI...   \n",
       "84            83  PROPOSITION 064- MARIJUANA LEGALIZATION. INITI...   \n",
       "\n",
       "    ccdc_committee_id  calaccess_committee_id  \\\n",
       "74                456                 1381808   \n",
       "75                457                 1382525   \n",
       "76                458                 1376077   \n",
       "77                459                 1382568   \n",
       "78                460                 1371855   \n",
       "79                461                 1343793   \n",
       "80                462                 1386560   \n",
       "81                463                 1387789   \n",
       "82                464                 1385506   \n",
       "83                465                 1385745   \n",
       "84                466                 1390962   \n",
       "\n",
       "                                       committee_name committee_position  \n",
       "74  YES ON 64, CALIFORNIANS TO CONTROL, REGULATE A...            SUPPORT  \n",
       "75                             NEW APPROACH PAC (MPO)            SUPPORT  \n",
       "76  CALIFORNIANS FOR SENSIBLE REFORM, SPONSORED BY...            SUPPORT  \n",
       "77  PUBLIC AND MENTAL HEALTH ADVOCATES AGAINST 64,...             OPPOSE  \n",
       "78  MARIJUANA POLICY PROJECT OF CALIFORNIA, YES ON 64            SUPPORT  \n",
       "79  CALIFORNIANS FOR RESPONSIBLE MARIJUANA REFORM,...            SUPPORT  \n",
       "80         ADULT USE CAMPAIGN FOR PROPOSITION 64; THE            SUPPORT  \n",
       "81  SAM ACTION, INC., A COMMITTEE AGAINST PROPOSIT...             OPPOSE  \n",
       "82  DRUG POLICY ACTION - NON PROFIT 501C4, YES ON ...            SUPPORT  \n",
       "83       FUND FOR POLICY REFORM (NONPROFIT 501(C)(4))            SUPPORT  \n",
       "84                        MOMS STRONG AGAINST PROP 64             OPPOSE  "
      ]
     },
     "execution_count": 5,
     "metadata": {},
     "output_type": "execute_result"
    }
   ],
   "source": [
    "props[props.prop_name == \"PROPOSITION 064- MARIJUANA LEGALIZATION. INITIATIVE STATUTE.\"]"
   ]
  },
  {
   "cell_type": "code",
   "execution_count": 6,
   "metadata": {
    "collapsed": true
   },
   "outputs": [],
   "source": [
    "contribs = pd.read_csv(\"http://www.firstpythonnotebook.org/_static/contributions.csv\")"
   ]
  },
  {
   "cell_type": "code",
   "execution_count": 7,
   "metadata": {
    "collapsed": true
   },
   "outputs": [],
   "source": [
    "prop = props[props.prop_name == \"PROPOSITION 064- MARIJUANA LEGALIZATION. INITIATIVE STATUTE.\"]"
   ]
  },
  {
   "cell_type": "code",
   "execution_count": 8,
   "metadata": {},
   "outputs": [
    {
     "data": {
      "text/html": [
       "<div>\n",
       "<style>\n",
       "    .dataframe thead tr:only-child th {\n",
       "        text-align: right;\n",
       "    }\n",
       "\n",
       "    .dataframe thead th {\n",
       "        text-align: left;\n",
       "    }\n",
       "\n",
       "    .dataframe tbody tr th {\n",
       "        vertical-align: top;\n",
       "    }\n",
       "</style>\n",
       "<table border=\"1\" class=\"dataframe\">\n",
       "  <thead>\n",
       "    <tr style=\"text-align: right;\">\n",
       "      <th></th>\n",
       "      <th>ocd_prop_id</th>\n",
       "      <th>calaccess_prop_id</th>\n",
       "      <th>ccdc_prop_id</th>\n",
       "      <th>prop_name</th>\n",
       "      <th>ccdc_committee_id</th>\n",
       "      <th>calaccess_committee_id</th>\n",
       "      <th>committee_name</th>\n",
       "      <th>committee_position</th>\n",
       "    </tr>\n",
       "  </thead>\n",
       "  <tbody>\n",
       "    <tr>\n",
       "      <th>74</th>\n",
       "      <td>ocd-contest/232cb72c-1b11-4293-b4e2-a181e80d172e</td>\n",
       "      <td>1381868</td>\n",
       "      <td>83</td>\n",
       "      <td>PROPOSITION 064- MARIJUANA LEGALIZATION. INITI...</td>\n",
       "      <td>456</td>\n",
       "      <td>1381808</td>\n",
       "      <td>YES ON 64, CALIFORNIANS TO CONTROL, REGULATE A...</td>\n",
       "      <td>SUPPORT</td>\n",
       "    </tr>\n",
       "    <tr>\n",
       "      <th>75</th>\n",
       "      <td>ocd-contest/232cb72c-1b11-4293-b4e2-a181e80d172e</td>\n",
       "      <td>1381868</td>\n",
       "      <td>83</td>\n",
       "      <td>PROPOSITION 064- MARIJUANA LEGALIZATION. INITI...</td>\n",
       "      <td>457</td>\n",
       "      <td>1382525</td>\n",
       "      <td>NEW APPROACH PAC (MPO)</td>\n",
       "      <td>SUPPORT</td>\n",
       "    </tr>\n",
       "    <tr>\n",
       "      <th>76</th>\n",
       "      <td>ocd-contest/232cb72c-1b11-4293-b4e2-a181e80d172e</td>\n",
       "      <td>1381868</td>\n",
       "      <td>83</td>\n",
       "      <td>PROPOSITION 064- MARIJUANA LEGALIZATION. INITI...</td>\n",
       "      <td>458</td>\n",
       "      <td>1376077</td>\n",
       "      <td>CALIFORNIANS FOR SENSIBLE REFORM, SPONSORED BY...</td>\n",
       "      <td>SUPPORT</td>\n",
       "    </tr>\n",
       "  </tbody>\n",
       "</table>\n",
       "</div>"
      ],
      "text/plain": [
       "                                         ocd_prop_id  calaccess_prop_id  \\\n",
       "74  ocd-contest/232cb72c-1b11-4293-b4e2-a181e80d172e            1381868   \n",
       "75  ocd-contest/232cb72c-1b11-4293-b4e2-a181e80d172e            1381868   \n",
       "76  ocd-contest/232cb72c-1b11-4293-b4e2-a181e80d172e            1381868   \n",
       "\n",
       "    ccdc_prop_id                                          prop_name  \\\n",
       "74            83  PROPOSITION 064- MARIJUANA LEGALIZATION. INITI...   \n",
       "75            83  PROPOSITION 064- MARIJUANA LEGALIZATION. INITI...   \n",
       "76            83  PROPOSITION 064- MARIJUANA LEGALIZATION. INITI...   \n",
       "\n",
       "    ccdc_committee_id  calaccess_committee_id  \\\n",
       "74                456                 1381808   \n",
       "75                457                 1382525   \n",
       "76                458                 1376077   \n",
       "\n",
       "                                       committee_name committee_position  \n",
       "74  YES ON 64, CALIFORNIANS TO CONTROL, REGULATE A...            SUPPORT  \n",
       "75                             NEW APPROACH PAC (MPO)            SUPPORT  \n",
       "76  CALIFORNIANS FOR SENSIBLE REFORM, SPONSORED BY...            SUPPORT  "
      ]
     },
     "execution_count": 8,
     "metadata": {},
     "output_type": "execute_result"
    }
   ],
   "source": [
    "prop.head(3)"
   ]
  },
  {
   "cell_type": "code",
   "execution_count": 9,
   "metadata": {},
   "outputs": [
    {
     "name": "stdout",
     "output_type": "stream",
     "text": [
      "<class 'pandas.core.frame.DataFrame'>\n",
      "RangeIndex: 56379 entries, 0 to 56378\n",
      "Data columns (total 13 columns):\n",
      "calaccess_committee_id          56379 non-null int64\n",
      "committee_name                  56379 non-null object\n",
      "calaccess_filing_id             56379 non-null int64\n",
      "date_received                   56379 non-null object\n",
      "contributor_lastname            56375 non-null object\n",
      "contributor_firstname           53411 non-null object\n",
      "contributor_city                56369 non-null object\n",
      "contributor_state               56363 non-null object\n",
      "contributor_zip                 56366 non-null object\n",
      "contributor_employer            48572 non-null object\n",
      "contributor_occupation          53273 non-null object\n",
      "contributor_is_self_employed    56379 non-null bool\n",
      "amount                          56379 non-null float64\n",
      "dtypes: bool(1), float64(1), int64(2), object(9)\n",
      "memory usage: 5.2+ MB\n"
     ]
    }
   ],
   "source": [
    "contribs.info()"
   ]
  },
  {
   "cell_type": "code",
   "execution_count": 10,
   "metadata": {},
   "outputs": [
    {
     "data": {
      "text/plain": [
       "0      PROPOSITION 051 - SCHOOL BONDS. FUNDING FOR K-...\n",
       "1      PROPOSITION 051 - SCHOOL BONDS. FUNDING FOR K-...\n",
       "2      PROPOSITION 051 - SCHOOL BONDS. FUNDING FOR K-...\n",
       "3      PROPOSITION 051 - SCHOOL BONDS. FUNDING FOR K-...\n",
       "4      PROPOSITION 052 - STATE FEES ON HOSPITALS. FED...\n",
       "5      PROPOSITION 052 - STATE FEES ON HOSPITALS. FED...\n",
       "6      PROPOSITION 052 - STATE FEES ON HOSPITALS. FED...\n",
       "7      PROPOSITION 053 - REVENUE BONDS. STATEWIDE VOT...\n",
       "8      PROPOSITION 053 - REVENUE BONDS. STATEWIDE VOT...\n",
       "9      PROPOSITION 053 - REVENUE BONDS. STATEWIDE VOT...\n",
       "10     PROPOSITION 053 - REVENUE BONDS. STATEWIDE VOT...\n",
       "11     PROPOSITION 054 - LEGISLATURE. LEGISLATION AND...\n",
       "12     PROPOSITION 054 - LEGISLATURE. LEGISLATION AND...\n",
       "13     PROPOSITION 054 - LEGISLATURE. LEGISLATION AND...\n",
       "14     PROPOSITION 054 - LEGISLATURE. LEGISLATION AND...\n",
       "15     PROPOSITION 055 - TAX EXTENSION TO FUND EDUCAT...\n",
       "16     PROPOSITION 055 - TAX EXTENSION TO FUND EDUCAT...\n",
       "17     PROPOSITION 055 - TAX EXTENSION TO FUND EDUCAT...\n",
       "18     PROPOSITION 055 - TAX EXTENSION TO FUND EDUCAT...\n",
       "19     PROPOSITION 055 - TAX EXTENSION TO FUND EDUCAT...\n",
       "20     PROPOSITION 055 - TAX EXTENSION TO FUND EDUCAT...\n",
       "21     PROPOSITION 055 - TAX EXTENSION TO FUND EDUCAT...\n",
       "22     PROPOSITION 055 - TAX EXTENSION TO FUND EDUCAT...\n",
       "23     PROPOSITION 056 - CIGARETTE TAX TO FUND HEALTH...\n",
       "24     PROPOSITION 056 - CIGARETTE TAX TO FUND HEALTH...\n",
       "25     PROPOSITION 056 - CIGARETTE TAX TO FUND HEALTH...\n",
       "26     PROPOSITION 056 - CIGARETTE TAX TO FUND HEALTH...\n",
       "27     PROPOSITION 056 - CIGARETTE TAX TO FUND HEALTH...\n",
       "28     PROPOSITION 056 - CIGARETTE TAX TO FUND HEALTH...\n",
       "29     PROPOSITION 056 - CIGARETTE TAX TO FUND HEALTH...\n",
       "                             ...                        \n",
       "72     PROPOSITION 063- FIREARMS. AMMUNITION SALES. I...\n",
       "73     PROPOSITION 063- FIREARMS. AMMUNITION SALES. I...\n",
       "74     PROPOSITION 064- MARIJUANA LEGALIZATION. INITI...\n",
       "75     PROPOSITION 064- MARIJUANA LEGALIZATION. INITI...\n",
       "76     PROPOSITION 064- MARIJUANA LEGALIZATION. INITI...\n",
       "77     PROPOSITION 064- MARIJUANA LEGALIZATION. INITI...\n",
       "78     PROPOSITION 064- MARIJUANA LEGALIZATION. INITI...\n",
       "79     PROPOSITION 064- MARIJUANA LEGALIZATION. INITI...\n",
       "80     PROPOSITION 064- MARIJUANA LEGALIZATION. INITI...\n",
       "81     PROPOSITION 064- MARIJUANA LEGALIZATION. INITI...\n",
       "82     PROPOSITION 064- MARIJUANA LEGALIZATION. INITI...\n",
       "83     PROPOSITION 064- MARIJUANA LEGALIZATION. INITI...\n",
       "84     PROPOSITION 064- MARIJUANA LEGALIZATION. INITI...\n",
       "85     PROPOSITION 065- CARRY-OUT BAGS. CHARGES. INIT...\n",
       "86     PROPOSITION 066- DEATH PENALTY. PROCEDURES. IN...\n",
       "87     PROPOSITION 066- DEATH PENALTY. PROCEDURES. IN...\n",
       "88     PROPOSITION 066- DEATH PENALTY. PROCEDURES. IN...\n",
       "89     PROPOSITION 066- DEATH PENALTY. PROCEDURES. IN...\n",
       "90     PROPOSITION 066- DEATH PENALTY. PROCEDURES. IN...\n",
       "91     PROPOSITION 066- DEATH PENALTY. PROCEDURES. IN...\n",
       "92     PROPOSITION 066- DEATH PENALTY. PROCEDURES. IN...\n",
       "93     PROPOSITION 066- DEATH PENALTY. PROCEDURES. IN...\n",
       "94     PROPOSITION 066- DEATH PENALTY. PROCEDURES. IN...\n",
       "95     PROPOSITION 067- REFERENDUM TO OVERTURN BAN ON...\n",
       "96     PROPOSITION 067- REFERENDUM TO OVERTURN BAN ON...\n",
       "97     PROPOSITION 067- REFERENDUM TO OVERTURN BAN ON...\n",
       "98     PROPOSITION 067- REFERENDUM TO OVERTURN BAN ON...\n",
       "99     PROPOSITION 067- REFERENDUM TO OVERTURN BAN ON...\n",
       "100    PROPOSITION 067- REFERENDUM TO OVERTURN BAN ON...\n",
       "101    PROPOSITION 067- REFERENDUM TO OVERTURN BAN ON...\n",
       "Name: prop_name, Length: 102, dtype: object"
      ]
     },
     "execution_count": 10,
     "metadata": {},
     "output_type": "execute_result"
    }
   ],
   "source": [
    "props.prop_name"
   ]
  },
  {
   "cell_type": "code",
   "execution_count": 11,
   "metadata": {
    "collapsed": true
   },
   "outputs": [],
   "source": [
    "merged = pd.merge(prop, contribs, on=\"calaccess_committee_id\")"
   ]
  },
  {
   "cell_type": "code",
   "execution_count": 12,
   "metadata": {},
   "outputs": [
    {
     "name": "stdout",
     "output_type": "stream",
     "text": [
      "<class 'pandas.core.frame.DataFrame'>\n",
      "Int64Index: 860 entries, 0 to 859\n",
      "Data columns (total 20 columns):\n",
      "ocd_prop_id                     860 non-null object\n",
      "calaccess_prop_id               860 non-null int64\n",
      "ccdc_prop_id                    860 non-null int64\n",
      "prop_name                       860 non-null object\n",
      "ccdc_committee_id               860 non-null int64\n",
      "calaccess_committee_id          860 non-null int64\n",
      "committee_name_x                860 non-null object\n",
      "committee_position              860 non-null object\n",
      "committee_name_y                860 non-null object\n",
      "calaccess_filing_id             860 non-null int64\n",
      "date_received                   860 non-null object\n",
      "contributor_lastname            860 non-null object\n",
      "contributor_firstname           750 non-null object\n",
      "contributor_city                860 non-null object\n",
      "contributor_state               860 non-null object\n",
      "contributor_zip                 860 non-null object\n",
      "contributor_employer            657 non-null object\n",
      "contributor_occupation          742 non-null object\n",
      "contributor_is_self_employed    860 non-null bool\n",
      "amount                          860 non-null float64\n",
      "dtypes: bool(1), float64(1), int64(5), object(13)\n",
      "memory usage: 135.2+ KB\n"
     ]
    }
   ],
   "source": [
    "merged.info()"
   ]
  },
  {
   "cell_type": "code",
   "execution_count": 13,
   "metadata": {},
   "outputs": [
    {
     "data": {
      "text/plain": [
       "35177017.640000001"
      ]
     },
     "execution_count": 13,
     "metadata": {},
     "output_type": "execute_result"
    }
   ],
   "source": [
    "merged.amount.sum()"
   ]
  },
  {
   "cell_type": "code",
   "execution_count": 14,
   "metadata": {},
   "outputs": [
    {
     "data": {
      "text/plain": [
       "SUPPORT    762\n",
       "OPPOSE      98\n",
       "Name: committee_position, dtype: int64"
      ]
     },
     "execution_count": 14,
     "metadata": {},
     "output_type": "execute_result"
    }
   ],
   "source": [
    "merged.committee_position.value_counts()"
   ]
  },
  {
   "cell_type": "code",
   "execution_count": 15,
   "metadata": {
    "collapsed": true
   },
   "outputs": [],
   "source": [
    "support = merged[merged.committee_position == \"SUPPORT\"]"
   ]
  },
  {
   "cell_type": "code",
   "execution_count": 16,
   "metadata": {},
   "outputs": [
    {
     "data": {
      "text/plain": [
       "32675806.0"
      ]
     },
     "execution_count": 16,
     "metadata": {},
     "output_type": "execute_result"
    }
   ],
   "source": [
    "support.amount.sum()"
   ]
  },
  {
   "cell_type": "code",
   "execution_count": 17,
   "metadata": {
    "collapsed": true
   },
   "outputs": [],
   "source": [
    "oppose = merged[merged.committee_position == \"OPPOSE\"]"
   ]
  },
  {
   "cell_type": "code",
   "execution_count": 18,
   "metadata": {},
   "outputs": [
    {
     "data": {
      "text/plain": [
       "2501211.6400000001"
      ]
     },
     "execution_count": 18,
     "metadata": {},
     "output_type": "execute_result"
    }
   ],
   "source": [
    "oppose.amount.sum()"
   ]
  },
  {
   "cell_type": "code",
   "execution_count": 19,
   "metadata": {},
   "outputs": [
    {
     "data": {
      "text/plain": [
       "25522.567755102042"
      ]
     },
     "execution_count": 19,
     "metadata": {},
     "output_type": "execute_result"
    }
   ],
   "source": [
    "oppose.amount.mean()"
   ]
  },
  {
   "cell_type": "code",
   "execution_count": 20,
   "metadata": {},
   "outputs": [
    {
     "data": {
      "text/plain": [
       "42881.635170603673"
      ]
     },
     "execution_count": 20,
     "metadata": {},
     "output_type": "execute_result"
    }
   ],
   "source": [
    "support.amount.mean()"
   ]
  },
  {
   "cell_type": "code",
   "execution_count": 21,
   "metadata": {},
   "outputs": [
    {
     "data": {
      "text/plain": [
       "100.0"
      ]
     },
     "execution_count": 21,
     "metadata": {},
     "output_type": "execute_result"
    }
   ],
   "source": [
    "support.amount.median()"
   ]
  },
  {
   "cell_type": "code",
   "execution_count": 22,
   "metadata": {},
   "outputs": [
    {
     "data": {
      "text/plain": [
       "0    100.0\n",
       "dtype: float64"
      ]
     },
     "execution_count": 22,
     "metadata": {},
     "output_type": "execute_result"
    }
   ],
   "source": [
    "support.amount.mode()"
   ]
  },
  {
   "cell_type": "code",
   "execution_count": 23,
   "metadata": {},
   "outputs": [
    {
     "data": {
      "text/plain": [
       "0.92889642704798669"
      ]
     },
     "execution_count": 23,
     "metadata": {},
     "output_type": "execute_result"
    }
   ],
   "source": [
    "support.amount.sum() / merged.amount.sum()"
   ]
  },
  {
   "cell_type": "markdown",
   "metadata": {
    "collapsed": true
   },
   "source": [
    "merged.head()"
   ]
  },
  {
   "cell_type": "code",
   "execution_count": 24,
   "metadata": {},
   "outputs": [
    {
     "data": {
      "text/html": [
       "<div>\n",
       "<style>\n",
       "    .dataframe thead tr:only-child th {\n",
       "        text-align: right;\n",
       "    }\n",
       "\n",
       "    .dataframe thead th {\n",
       "        text-align: left;\n",
       "    }\n",
       "\n",
       "    .dataframe tbody tr th {\n",
       "        vertical-align: top;\n",
       "    }\n",
       "</style>\n",
       "<table border=\"1\" class=\"dataframe\">\n",
       "  <thead>\n",
       "    <tr style=\"text-align: right;\">\n",
       "      <th></th>\n",
       "      <th>ocd_prop_id</th>\n",
       "      <th>calaccess_prop_id</th>\n",
       "      <th>ccdc_prop_id</th>\n",
       "      <th>prop_name</th>\n",
       "      <th>ccdc_committee_id</th>\n",
       "      <th>calaccess_committee_id</th>\n",
       "      <th>committee_name_x</th>\n",
       "      <th>committee_position</th>\n",
       "      <th>committee_name_y</th>\n",
       "      <th>calaccess_filing_id</th>\n",
       "      <th>date_received</th>\n",
       "      <th>contributor_lastname</th>\n",
       "      <th>contributor_firstname</th>\n",
       "      <th>contributor_city</th>\n",
       "      <th>contributor_state</th>\n",
       "      <th>contributor_zip</th>\n",
       "      <th>contributor_employer</th>\n",
       "      <th>contributor_occupation</th>\n",
       "      <th>contributor_is_self_employed</th>\n",
       "      <th>amount</th>\n",
       "    </tr>\n",
       "  </thead>\n",
       "  <tbody>\n",
       "    <tr>\n",
       "      <th>142</th>\n",
       "      <td>ocd-contest/232cb72c-1b11-4293-b4e2-a181e80d172e</td>\n",
       "      <td>1381868</td>\n",
       "      <td>83</td>\n",
       "      <td>PROPOSITION 064- MARIJUANA LEGALIZATION. INITI...</td>\n",
       "      <td>456</td>\n",
       "      <td>1381808</td>\n",
       "      <td>YES ON 64, CALIFORNIANS TO CONTROL, REGULATE A...</td>\n",
       "      <td>SUPPORT</td>\n",
       "      <td>YES ON 64, CALIFORNIANS TO CONTROL, REGULATE A...</td>\n",
       "      <td>2083528</td>\n",
       "      <td>2016-09-15</td>\n",
       "      <td>PARKER AND AFFILIATED ENTITIES</td>\n",
       "      <td>SEAN</td>\n",
       "      <td>PALO ALTO</td>\n",
       "      <td>CA</td>\n",
       "      <td>94301</td>\n",
       "      <td>NaN</td>\n",
       "      <td>NaN</td>\n",
       "      <td>False</td>\n",
       "      <td>4000000.0</td>\n",
       "    </tr>\n",
       "    <tr>\n",
       "      <th>79</th>\n",
       "      <td>ocd-contest/232cb72c-1b11-4293-b4e2-a181e80d172e</td>\n",
       "      <td>1381868</td>\n",
       "      <td>83</td>\n",
       "      <td>PROPOSITION 064- MARIJUANA LEGALIZATION. INITI...</td>\n",
       "      <td>456</td>\n",
       "      <td>1381808</td>\n",
       "      <td>YES ON 64, CALIFORNIANS TO CONTROL, REGULATE A...</td>\n",
       "      <td>SUPPORT</td>\n",
       "      <td>YES ON 64, CALIFORNIANS TO CONTROL, REGULATE A...</td>\n",
       "      <td>2083528</td>\n",
       "      <td>2016-09-15</td>\n",
       "      <td>DRUG POLICY ACTION - NON PROFIT 501C4, YES ON ...</td>\n",
       "      <td>NaN</td>\n",
       "      <td>SACRAMENTO</td>\n",
       "      <td>CA</td>\n",
       "      <td>95815</td>\n",
       "      <td>NaN</td>\n",
       "      <td>NaN</td>\n",
       "      <td>False</td>\n",
       "      <td>2000000.0</td>\n",
       "    </tr>\n",
       "  </tbody>\n",
       "</table>\n",
       "</div>"
      ],
      "text/plain": [
       "                                          ocd_prop_id  calaccess_prop_id  \\\n",
       "142  ocd-contest/232cb72c-1b11-4293-b4e2-a181e80d172e            1381868   \n",
       "79   ocd-contest/232cb72c-1b11-4293-b4e2-a181e80d172e            1381868   \n",
       "\n",
       "     ccdc_prop_id                                          prop_name  \\\n",
       "142            83  PROPOSITION 064- MARIJUANA LEGALIZATION. INITI...   \n",
       "79             83  PROPOSITION 064- MARIJUANA LEGALIZATION. INITI...   \n",
       "\n",
       "     ccdc_committee_id  calaccess_committee_id  \\\n",
       "142                456                 1381808   \n",
       "79                 456                 1381808   \n",
       "\n",
       "                                      committee_name_x committee_position  \\\n",
       "142  YES ON 64, CALIFORNIANS TO CONTROL, REGULATE A...            SUPPORT   \n",
       "79   YES ON 64, CALIFORNIANS TO CONTROL, REGULATE A...            SUPPORT   \n",
       "\n",
       "                                      committee_name_y  calaccess_filing_id  \\\n",
       "142  YES ON 64, CALIFORNIANS TO CONTROL, REGULATE A...              2083528   \n",
       "79   YES ON 64, CALIFORNIANS TO CONTROL, REGULATE A...              2083528   \n",
       "\n",
       "    date_received                               contributor_lastname  \\\n",
       "142    2016-09-15                     PARKER AND AFFILIATED ENTITIES   \n",
       "79     2016-09-15  DRUG POLICY ACTION - NON PROFIT 501C4, YES ON ...   \n",
       "\n",
       "    contributor_firstname contributor_city contributor_state contributor_zip  \\\n",
       "142                  SEAN        PALO ALTO                CA           94301   \n",
       "79                    NaN       SACRAMENTO                CA           95815   \n",
       "\n",
       "    contributor_employer contributor_occupation  contributor_is_self_employed  \\\n",
       "142                  NaN                    NaN                         False   \n",
       "79                   NaN                    NaN                         False   \n",
       "\n",
       "        amount  \n",
       "142  4000000.0  \n",
       "79   2000000.0  "
      ]
     },
     "execution_count": 24,
     "metadata": {},
     "output_type": "execute_result"
    }
   ],
   "source": [
    "merged.sort_values(\"amount\", ascending=False).head(2)"
   ]
  },
  {
   "cell_type": "code",
   "execution_count": 25,
   "metadata": {},
   "outputs": [
    {
     "data": {
      "text/html": [
       "<div>\n",
       "<style>\n",
       "    .dataframe thead tr:only-child th {\n",
       "        text-align: right;\n",
       "    }\n",
       "\n",
       "    .dataframe thead th {\n",
       "        text-align: left;\n",
       "    }\n",
       "\n",
       "    .dataframe tbody tr th {\n",
       "        vertical-align: top;\n",
       "    }\n",
       "</style>\n",
       "<table border=\"1\" class=\"dataframe\">\n",
       "  <thead>\n",
       "    <tr style=\"text-align: right;\">\n",
       "      <th></th>\n",
       "      <th>ocd_prop_id</th>\n",
       "      <th>calaccess_prop_id</th>\n",
       "      <th>ccdc_prop_id</th>\n",
       "      <th>prop_name</th>\n",
       "      <th>ccdc_committee_id</th>\n",
       "      <th>calaccess_committee_id</th>\n",
       "      <th>committee_name_x</th>\n",
       "      <th>committee_position</th>\n",
       "      <th>committee_name_y</th>\n",
       "      <th>calaccess_filing_id</th>\n",
       "      <th>date_received</th>\n",
       "      <th>contributor_lastname</th>\n",
       "      <th>contributor_firstname</th>\n",
       "      <th>contributor_city</th>\n",
       "      <th>contributor_state</th>\n",
       "      <th>contributor_zip</th>\n",
       "      <th>contributor_employer</th>\n",
       "      <th>contributor_occupation</th>\n",
       "      <th>contributor_is_self_employed</th>\n",
       "      <th>amount</th>\n",
       "    </tr>\n",
       "  </thead>\n",
       "  <tbody>\n",
       "    <tr>\n",
       "      <th>839</th>\n",
       "      <td>ocd-contest/232cb72c-1b11-4293-b4e2-a181e80d172e</td>\n",
       "      <td>1381868</td>\n",
       "      <td>83</td>\n",
       "      <td>PROPOSITION 064- MARIJUANA LEGALIZATION. INITI...</td>\n",
       "      <td>463</td>\n",
       "      <td>1387789</td>\n",
       "      <td>SAM ACTION, INC., A COMMITTEE AGAINST PROPOSIT...</td>\n",
       "      <td>OPPOSE</td>\n",
       "      <td>SAM ACTION, INC., A COMMITTEE AGAINST PROPOSIT...</td>\n",
       "      <td>2083142</td>\n",
       "      <td>2016-07-20</td>\n",
       "      <td>SCHAUER</td>\n",
       "      <td>JULIE</td>\n",
       "      <td>OAKS</td>\n",
       "      <td>PA</td>\n",
       "      <td>19456</td>\n",
       "      <td>NaN</td>\n",
       "      <td>RETIRED</td>\n",
       "      <td>False</td>\n",
       "      <td>1000000.0</td>\n",
       "    </tr>\n",
       "    <tr>\n",
       "      <th>312</th>\n",
       "      <td>ocd-contest/232cb72c-1b11-4293-b4e2-a181e80d172e</td>\n",
       "      <td>1381868</td>\n",
       "      <td>83</td>\n",
       "      <td>PROPOSITION 064- MARIJUANA LEGALIZATION. INITI...</td>\n",
       "      <td>459</td>\n",
       "      <td>1382568</td>\n",
       "      <td>PUBLIC AND MENTAL HEALTH ADVOCATES AGAINST 64,...</td>\n",
       "      <td>OPPOSE</td>\n",
       "      <td>PUBLIC AND MENTAL HEALTH ADVOCATES AGAINST 64,...</td>\n",
       "      <td>2098048</td>\n",
       "      <td>2016-09-27</td>\n",
       "      <td>SAM ACTION, INC.</td>\n",
       "      <td>NaN</td>\n",
       "      <td>ALEXANDRIA</td>\n",
       "      <td>VA</td>\n",
       "      <td>22314</td>\n",
       "      <td>NaN</td>\n",
       "      <td>NaN</td>\n",
       "      <td>False</td>\n",
       "      <td>400000.0</td>\n",
       "    </tr>\n",
       "  </tbody>\n",
       "</table>\n",
       "</div>"
      ],
      "text/plain": [
       "                                          ocd_prop_id  calaccess_prop_id  \\\n",
       "839  ocd-contest/232cb72c-1b11-4293-b4e2-a181e80d172e            1381868   \n",
       "312  ocd-contest/232cb72c-1b11-4293-b4e2-a181e80d172e            1381868   \n",
       "\n",
       "     ccdc_prop_id                                          prop_name  \\\n",
       "839            83  PROPOSITION 064- MARIJUANA LEGALIZATION. INITI...   \n",
       "312            83  PROPOSITION 064- MARIJUANA LEGALIZATION. INITI...   \n",
       "\n",
       "     ccdc_committee_id  calaccess_committee_id  \\\n",
       "839                463                 1387789   \n",
       "312                459                 1382568   \n",
       "\n",
       "                                      committee_name_x committee_position  \\\n",
       "839  SAM ACTION, INC., A COMMITTEE AGAINST PROPOSIT...             OPPOSE   \n",
       "312  PUBLIC AND MENTAL HEALTH ADVOCATES AGAINST 64,...             OPPOSE   \n",
       "\n",
       "                                      committee_name_y  calaccess_filing_id  \\\n",
       "839  SAM ACTION, INC., A COMMITTEE AGAINST PROPOSIT...              2083142   \n",
       "312  PUBLIC AND MENTAL HEALTH ADVOCATES AGAINST 64,...              2098048   \n",
       "\n",
       "    date_received contributor_lastname contributor_firstname contributor_city  \\\n",
       "839    2016-07-20              SCHAUER                 JULIE             OAKS   \n",
       "312    2016-09-27     SAM ACTION, INC.                   NaN       ALEXANDRIA   \n",
       "\n",
       "    contributor_state contributor_zip contributor_employer  \\\n",
       "839                PA           19456                  NaN   \n",
       "312                VA           22314                  NaN   \n",
       "\n",
       "    contributor_occupation  contributor_is_self_employed     amount  \n",
       "839                RETIRED                         False  1000000.0  \n",
       "312                    NaN                         False   400000.0  "
      ]
     },
     "execution_count": 25,
     "metadata": {},
     "output_type": "execute_result"
    }
   ],
   "source": [
    "oppose.sort_values(\"amount\", ascending=False).head(2)"
   ]
  },
  {
   "cell_type": "code",
   "execution_count": 26,
   "metadata": {},
   "outputs": [
    {
     "name": "stdout",
     "output_type": "stream",
     "text": [
      "<class 'pandas.core.frame.DataFrame'>\n",
      "Int64Index: 860 entries, 0 to 859\n",
      "Data columns (total 20 columns):\n",
      "ocd_prop_id                     860 non-null object\n",
      "calaccess_prop_id               860 non-null int64\n",
      "ccdc_prop_id                    860 non-null int64\n",
      "prop_name                       860 non-null object\n",
      "ccdc_committee_id               860 non-null int64\n",
      "calaccess_committee_id          860 non-null int64\n",
      "committee_name_x                860 non-null object\n",
      "committee_position              860 non-null object\n",
      "committee_name_y                860 non-null object\n",
      "calaccess_filing_id             860 non-null int64\n",
      "date_received                   860 non-null object\n",
      "contributor_lastname            860 non-null object\n",
      "contributor_firstname           750 non-null object\n",
      "contributor_city                860 non-null object\n",
      "contributor_state               860 non-null object\n",
      "contributor_zip                 860 non-null object\n",
      "contributor_employer            657 non-null object\n",
      "contributor_occupation          742 non-null object\n",
      "contributor_is_self_employed    860 non-null bool\n",
      "amount                          860 non-null float64\n",
      "dtypes: bool(1), float64(1), int64(5), object(13)\n",
      "memory usage: 135.2+ KB\n"
     ]
    }
   ],
   "source": [
    "merged.info(2)"
   ]
  },
  {
   "cell_type": "code",
   "execution_count": 40,
   "metadata": {},
   "outputs": [
    {
     "data": {
      "text/html": [
       "<div>\n",
       "<style>\n",
       "    .dataframe thead tr:only-child th {\n",
       "        text-align: right;\n",
       "    }\n",
       "\n",
       "    .dataframe thead th {\n",
       "        text-align: left;\n",
       "    }\n",
       "\n",
       "    .dataframe tbody tr th {\n",
       "        vertical-align: top;\n",
       "    }\n",
       "</style>\n",
       "<table border=\"1\" class=\"dataframe\">\n",
       "  <thead>\n",
       "    <tr style=\"text-align: right;\">\n",
       "      <th></th>\n",
       "      <th>committee_name_x</th>\n",
       "      <th>amount</th>\n",
       "    </tr>\n",
       "  </thead>\n",
       "  <tbody>\n",
       "    <tr>\n",
       "      <th>10</th>\n",
       "      <td>YES ON 64, CALIFORNIANS TO CONTROL, REGULATE A...</td>\n",
       "      <td>15734047.00</td>\n",
       "    </tr>\n",
       "    <tr>\n",
       "      <th>4</th>\n",
       "      <td>FUND FOR POLICY REFORM (NONPROFIT 501(C)(4))</td>\n",
       "      <td>6140000.00</td>\n",
       "    </tr>\n",
       "    <tr>\n",
       "      <th>3</th>\n",
       "      <td>DRUG POLICY ACTION - NON PROFIT 501C4, YES ON ...</td>\n",
       "      <td>4470000.00</td>\n",
       "    </tr>\n",
       "    <tr>\n",
       "      <th>7</th>\n",
       "      <td>NEW APPROACH PAC (MPO)</td>\n",
       "      <td>3865000.00</td>\n",
       "    </tr>\n",
       "    <tr>\n",
       "      <th>9</th>\n",
       "      <td>SAM ACTION, INC., A COMMITTEE AGAINST PROPOSIT...</td>\n",
       "      <td>1364000.00</td>\n",
       "    </tr>\n",
       "    <tr>\n",
       "      <th>8</th>\n",
       "      <td>PUBLIC AND MENTAL HEALTH ADVOCATES AGAINST 64,...</td>\n",
       "      <td>1130930.00</td>\n",
       "    </tr>\n",
       "    <tr>\n",
       "      <th>1</th>\n",
       "      <td>CALIFORNIANS FOR RESPONSIBLE MARIJUANA REFORM,...</td>\n",
       "      <td>860470.00</td>\n",
       "    </tr>\n",
       "    <tr>\n",
       "      <th>2</th>\n",
       "      <td>CALIFORNIANS FOR SENSIBLE REFORM, SPONSORED BY...</td>\n",
       "      <td>850000.00</td>\n",
       "    </tr>\n",
       "    <tr>\n",
       "      <th>5</th>\n",
       "      <td>MARIJUANA POLICY PROJECT OF CALIFORNIA, YES ON 64</td>\n",
       "      <td>739200.00</td>\n",
       "    </tr>\n",
       "    <tr>\n",
       "      <th>0</th>\n",
       "      <td>ADULT USE CAMPAIGN FOR PROPOSITION 64; THE</td>\n",
       "      <td>17089.00</td>\n",
       "    </tr>\n",
       "    <tr>\n",
       "      <th>6</th>\n",
       "      <td>MOMS STRONG AGAINST PROP 64</td>\n",
       "      <td>6281.64</td>\n",
       "    </tr>\n",
       "  </tbody>\n",
       "</table>\n",
       "</div>"
      ],
      "text/plain": [
       "                                     committee_name_x       amount\n",
       "10  YES ON 64, CALIFORNIANS TO CONTROL, REGULATE A...  15734047.00\n",
       "4        FUND FOR POLICY REFORM (NONPROFIT 501(C)(4))   6140000.00\n",
       "3   DRUG POLICY ACTION - NON PROFIT 501C4, YES ON ...   4470000.00\n",
       "7                              NEW APPROACH PAC (MPO)   3865000.00\n",
       "9   SAM ACTION, INC., A COMMITTEE AGAINST PROPOSIT...   1364000.00\n",
       "8   PUBLIC AND MENTAL HEALTH ADVOCATES AGAINST 64,...   1130930.00\n",
       "1   CALIFORNIANS FOR RESPONSIBLE MARIJUANA REFORM,...    860470.00\n",
       "2   CALIFORNIANS FOR SENSIBLE REFORM, SPONSORED BY...    850000.00\n",
       "5   MARIJUANA POLICY PROJECT OF CALIFORNIA, YES ON 64    739200.00\n",
       "0          ADULT USE CAMPAIGN FOR PROPOSITION 64; THE     17089.00\n",
       "6                         MOMS STRONG AGAINST PROP 64      6281.64"
      ]
     },
     "execution_count": 40,
     "metadata": {},
     "output_type": "execute_result"
    }
   ],
   "source": [
    "merged.groupby(\"committee_name_x\").amount.sum().reset_index().sort_values(\"amount\", ascending=False)"
   ]
  },
  {
   "cell_type": "code",
   "execution_count": 50,
   "metadata": {},
   "outputs": [
    {
     "data": {
      "text/plain": [
       "<bound method Series.sum of 0      YES ON 64, CALIFORNIANS TO CONTROL, REGULATE A...\n",
       "1      YES ON 64, CALIFORNIANS TO CONTROL, REGULATE A...\n",
       "2      YES ON 64, CALIFORNIANS TO CONTROL, REGULATE A...\n",
       "3      YES ON 64, CALIFORNIANS TO CONTROL, REGULATE A...\n",
       "4      YES ON 64, CALIFORNIANS TO CONTROL, REGULATE A...\n",
       "5      YES ON 64, CALIFORNIANS TO CONTROL, REGULATE A...\n",
       "6      YES ON 64, CALIFORNIANS TO CONTROL, REGULATE A...\n",
       "7      YES ON 64, CALIFORNIANS TO CONTROL, REGULATE A...\n",
       "8      YES ON 64, CALIFORNIANS TO CONTROL, REGULATE A...\n",
       "9      YES ON 64, CALIFORNIANS TO CONTROL, REGULATE A...\n",
       "10     YES ON 64, CALIFORNIANS TO CONTROL, REGULATE A...\n",
       "11     YES ON 64, CALIFORNIANS TO CONTROL, REGULATE A...\n",
       "12     YES ON 64, CALIFORNIANS TO CONTROL, REGULATE A...\n",
       "13     YES ON 64, CALIFORNIANS TO CONTROL, REGULATE A...\n",
       "14     YES ON 64, CALIFORNIANS TO CONTROL, REGULATE A...\n",
       "15     YES ON 64, CALIFORNIANS TO CONTROL, REGULATE A...\n",
       "16     YES ON 64, CALIFORNIANS TO CONTROL, REGULATE A...\n",
       "17     YES ON 64, CALIFORNIANS TO CONTROL, REGULATE A...\n",
       "18     YES ON 64, CALIFORNIANS TO CONTROL, REGULATE A...\n",
       "19     YES ON 64, CALIFORNIANS TO CONTROL, REGULATE A...\n",
       "20     YES ON 64, CALIFORNIANS TO CONTROL, REGULATE A...\n",
       "21     YES ON 64, CALIFORNIANS TO CONTROL, REGULATE A...\n",
       "22     YES ON 64, CALIFORNIANS TO CONTROL, REGULATE A...\n",
       "23     YES ON 64, CALIFORNIANS TO CONTROL, REGULATE A...\n",
       "24     YES ON 64, CALIFORNIANS TO CONTROL, REGULATE A...\n",
       "25     YES ON 64, CALIFORNIANS TO CONTROL, REGULATE A...\n",
       "26     YES ON 64, CALIFORNIANS TO CONTROL, REGULATE A...\n",
       "27     YES ON 64, CALIFORNIANS TO CONTROL, REGULATE A...\n",
       "28     YES ON 64, CALIFORNIANS TO CONTROL, REGULATE A...\n",
       "29     YES ON 64, CALIFORNIANS TO CONTROL, REGULATE A...\n",
       "                             ...                        \n",
       "830           ADULT USE CAMPAIGN FOR PROPOSITION 64; THE\n",
       "831           ADULT USE CAMPAIGN FOR PROPOSITION 64; THE\n",
       "832           ADULT USE CAMPAIGN FOR PROPOSITION 64; THE\n",
       "833           ADULT USE CAMPAIGN FOR PROPOSITION 64; THE\n",
       "834           ADULT USE CAMPAIGN FOR PROPOSITION 64; THE\n",
       "835    SAM ACTION, INC., A COMMITTEE AGAINST PROPOSIT...\n",
       "836    SAM ACTION, INC., A COMMITTEE AGAINST PROPOSIT...\n",
       "837    SAM ACTION, INC., A COMMITTEE AGAINST PROPOSIT...\n",
       "838    SAM ACTION, INC., A COMMITTEE AGAINST PROPOSIT...\n",
       "839    SAM ACTION, INC., A COMMITTEE AGAINST PROPOSIT...\n",
       "840    SAM ACTION, INC., A COMMITTEE AGAINST PROPOSIT...\n",
       "841    DRUG POLICY ACTION - NON PROFIT 501C4, YES ON ...\n",
       "842    DRUG POLICY ACTION - NON PROFIT 501C4, YES ON ...\n",
       "843    DRUG POLICY ACTION - NON PROFIT 501C4, YES ON ...\n",
       "844    DRUG POLICY ACTION - NON PROFIT 501C4, YES ON ...\n",
       "845    DRUG POLICY ACTION - NON PROFIT 501C4, YES ON ...\n",
       "846    DRUG POLICY ACTION - NON PROFIT 501C4, YES ON ...\n",
       "847    DRUG POLICY ACTION - NON PROFIT 501C4, YES ON ...\n",
       "848         FUND FOR POLICY REFORM (NONPROFIT 501(C)(4))\n",
       "849         FUND FOR POLICY REFORM (NONPROFIT 501(C)(4))\n",
       "850         FUND FOR POLICY REFORM (NONPROFIT 501(C)(4))\n",
       "851         FUND FOR POLICY REFORM (NONPROFIT 501(C)(4))\n",
       "852         FUND FOR POLICY REFORM (NONPROFIT 501(C)(4))\n",
       "853         FUND FOR POLICY REFORM (NONPROFIT 501(C)(4))\n",
       "854         FUND FOR POLICY REFORM (NONPROFIT 501(C)(4))\n",
       "855         FUND FOR POLICY REFORM (NONPROFIT 501(C)(4))\n",
       "856                          MOMS STRONG AGAINST PROP 64\n",
       "857                          MOMS STRONG AGAINST PROP 64\n",
       "858                          MOMS STRONG AGAINST PROP 64\n",
       "859                          MOMS STRONG AGAINST PROP 64\n",
       "Name: committee_name_x, Length: 860, dtype: object>"
      ]
     },
     "execution_count": 50,
     "metadata": {},
     "output_type": "execute_result"
    }
   ],
   "source": [
    "merged.committee_name_x.sum"
   ]
  },
  {
   "cell_type": "code",
   "execution_count": null,
   "metadata": {
    "collapsed": true
   },
   "outputs": [],
   "source": []
  }
 ],
 "metadata": {
  "kernelspec": {
   "display_name": "Python 2",
   "language": "python",
   "name": "python2"
  },
  "language_info": {
   "codemirror_mode": {
    "name": "ipython",
    "version": 2
   },
   "file_extension": ".py",
   "mimetype": "text/x-python",
   "name": "python",
   "nbconvert_exporter": "python",
   "pygments_lexer": "ipython2",
   "version": "2.7.10"
  }
 },
 "nbformat": 4,
 "nbformat_minor": 2
}
